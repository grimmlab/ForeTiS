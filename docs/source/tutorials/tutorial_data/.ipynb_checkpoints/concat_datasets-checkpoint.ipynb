{
 "cells": [
  {
   "cell_type": "code",
   "execution_count": 7,
   "id": "cfc0fbb4",
   "metadata": {
    "pycharm": {
     "is_executing": true,
     "name": "#%%\n"
    }
   },
   "outputs": [
    {
     "name": "stdout",
     "output_type": "stream",
     "text": [
      "           Date  mean_temp  mean_humid  mean_prec_height_mm  \\\n",
      "0    2016-12-18   2.304762   92.244048             0.012500   \n",
      "1    2016-12-25   1.023214   92.559524             0.018452   \n",
      "2    2017-01-01  -0.306548   89.470238             0.000595   \n",
      "3    2017-01-08  -4.380952   87.607143             0.043452   \n",
      "4    2017-01-15   0.460714   83.940476             0.076786   \n",
      "..          ...        ...         ...                  ...   \n",
      "190  2020-08-09  20.262500   68.244048             0.050000   \n",
      "191  2020-08-16  22.402976   72.285714             0.023810   \n",
      "192  2020-08-23  20.433929   71.851190             0.087500   \n",
      "193  2020-08-30  16.681548   72.815476             0.242857   \n",
      "194  2020-09-06  14.795833   87.333333             0.183333   \n",
      "\n",
      "     total_prec_height_mm  mean_prec_flag  mean_sun_dur_min  total_sun_dur_h  \\\n",
      "0                0.300000        0.273810          2.873016         1.149206   \n",
      "1                0.442857        0.291667          2.801587         1.120635   \n",
      "2                0.014286        0.208333          7.817460         3.126984   \n",
      "3                1.042857        0.410714          4.746032         1.898413   \n",
      "4                1.842857        0.577381          2.103175         0.841270   \n",
      "..                    ...             ...               ...              ...   \n",
      "190              1.200000        0.035714         24.422619         9.769048   \n",
      "191              0.571429        0.136905         18.720238         7.488095   \n",
      "192              2.100000        0.142857         17.690476         7.076190   \n",
      "193              5.828571        0.172619         10.303571         4.121429   \n",
      "194              4.400000        0.500000          0.583333         0.233333   \n",
      "\n",
      "     CutFlowers  total_prec_flag  ...  cal_Karfreitag_Counter  \\\n",
      "0        799.40         0.714286  ...                    99.0   \n",
      "1       2435.85         0.714286  ...                    99.0   \n",
      "2        610.30         0.571429  ...                    99.0   \n",
      "3        631.11         0.857143  ...                    99.0   \n",
      "4       1161.30         1.000000  ...                    99.0   \n",
      "..          ...              ...  ...                     ...   \n",
      "190     1943.95         0.285714  ...                    99.0   \n",
      "191     1623.70         0.571429  ...                    99.0   \n",
      "192     1797.85         0.857143  ...                    99.0   \n",
      "193     1413.70         0.428571  ...                    99.0   \n",
      "194      115.50         1.000000  ...                    99.0   \n",
      "\n",
      "     cal_MothersDay_Counter  school_holiday_herbstferien  school_holiday_no  \\\n",
      "0                      99.0                          0.0                1.0   \n",
      "1                      99.0                          0.0                1.0   \n",
      "2                      99.0                          0.0                1.0   \n",
      "3                      99.0                          0.0                1.0   \n",
      "4                      99.0                          0.0                1.0   \n",
      "..                      ...                          ...                ...   \n",
      "190                    99.0                          0.0                0.0   \n",
      "191                    99.0                          0.0                0.0   \n",
      "192                    99.0                          0.0                0.0   \n",
      "193                    99.0                          0.0                0.0   \n",
      "194                    99.0                          0.0                0.0   \n",
      "\n",
      "     school_holiday_osterferien  school_holiday_pfingstferien  \\\n",
      "0                           0.0                           0.0   \n",
      "1                           0.0                           0.0   \n",
      "2                           0.0                           0.0   \n",
      "3                           0.0                           0.0   \n",
      "4                           0.0                           0.0   \n",
      "..                          ...                           ...   \n",
      "190                         0.0                           0.0   \n",
      "191                         0.0                           0.0   \n",
      "192                         0.0                           0.0   \n",
      "193                         0.0                           0.0   \n",
      "194                         0.0                           0.0   \n",
      "\n",
      "     school_holiday_sommerferien  school_holiday_weihnachtsferien  \\\n",
      "0                            0.0                              0.0   \n",
      "1                            0.0                              0.0   \n",
      "2                            0.0                              0.0   \n",
      "3                            0.0                              0.0   \n",
      "4                            0.0                              0.0   \n",
      "..                           ...                              ...   \n",
      "190                          1.0                              0.0   \n",
      "191                          1.0                              0.0   \n",
      "192                          1.0                              0.0   \n",
      "193                          1.0                              0.0   \n",
      "194                          1.0                              0.0   \n",
      "\n",
      "     school_holiday_winterferien  dataset_is_preprocessed  \n",
      "0                            0.0               CutFlowers  \n",
      "1                            0.0               CutFlowers  \n",
      "2                            0.0               CutFlowers  \n",
      "3                            0.0               CutFlowers  \n",
      "4                            0.0               CutFlowers  \n",
      "..                           ...                      ...  \n",
      "190                          0.0               CutFlowers  \n",
      "191                          0.0               CutFlowers  \n",
      "192                          0.0               CutFlowers  \n",
      "193                          0.0               CutFlowers  \n",
      "194                          0.0               CutFlowers  \n",
      "\n",
      "[195 rows x 31 columns]\n"
     ]
    }
   ],
   "source": [
    "import pandas as pd\n",
    "import numpy as np\n",
    "import matplotlib.pyplot as plt\n",
    "dataset_raw = pd.read_csv('CashierData.csv', decimal=',', sep=';')\n",
    "print(dataset_raw)"
   ]
  },
  {
   "cell_type": "code",
   "execution_count": 5,
   "id": "d653fa0c",
   "metadata": {
    "pycharm": {
     "name": "#%%\n"
    }
   },
   "outputs": [
    {
     "ename": "KeyError",
     "evalue": "'date'",
     "output_type": "error",
     "traceback": [
      "\u001b[0;31m---------------------------------------------------------------------------\u001b[0m",
      "\u001b[0;31mKeyError\u001b[0m                                  Traceback (most recent call last)",
      "File \u001b[0;32m~/.local/lib/python3.8/site-packages/pandas/core/indexes/base.py:2646\u001b[0m, in \u001b[0;36mIndex.get_loc\u001b[0;34m(self, key, method, tolerance)\u001b[0m\n\u001b[1;32m   2645\u001b[0m \u001b[38;5;28;01mtry\u001b[39;00m:\n\u001b[0;32m-> 2646\u001b[0m     \u001b[38;5;28;01mreturn\u001b[39;00m \u001b[38;5;28;43mself\u001b[39;49m\u001b[38;5;241;43m.\u001b[39;49m\u001b[43m_engine\u001b[49m\u001b[38;5;241;43m.\u001b[39;49m\u001b[43mget_loc\u001b[49m\u001b[43m(\u001b[49m\u001b[43mkey\u001b[49m\u001b[43m)\u001b[49m\n\u001b[1;32m   2647\u001b[0m \u001b[38;5;28;01mexcept\u001b[39;00m \u001b[38;5;167;01mKeyError\u001b[39;00m:\n",
      "File \u001b[0;32mpandas/_libs/index.pyx:111\u001b[0m, in \u001b[0;36mpandas._libs.index.IndexEngine.get_loc\u001b[0;34m()\u001b[0m\n",
      "File \u001b[0;32mpandas/_libs/index.pyx:138\u001b[0m, in \u001b[0;36mpandas._libs.index.IndexEngine.get_loc\u001b[0;34m()\u001b[0m\n",
      "File \u001b[0;32mpandas/_libs/hashtable_class_helper.pxi:1619\u001b[0m, in \u001b[0;36mpandas._libs.hashtable.PyObjectHashTable.get_item\u001b[0;34m()\u001b[0m\n",
      "File \u001b[0;32mpandas/_libs/hashtable_class_helper.pxi:1627\u001b[0m, in \u001b[0;36mpandas._libs.hashtable.PyObjectHashTable.get_item\u001b[0;34m()\u001b[0m\n",
      "\u001b[0;31mKeyError\u001b[0m: 'date'",
      "\nDuring handling of the above exception, another exception occurred:\n",
      "\u001b[0;31mKeyError\u001b[0m                                  Traceback (most recent call last)",
      "Input \u001b[0;32mIn [5]\u001b[0m, in \u001b[0;36m<cell line: 2>\u001b[0;34m()\u001b[0m\n\u001b[1;32m      1\u001b[0m cal_date_day_of_month_sin \u001b[38;5;241m=\u001b[39m dataset_raw[\u001b[38;5;124m'\u001b[39m\u001b[38;5;124mcal_date_day_of_month_sin\u001b[39m\u001b[38;5;124m'\u001b[39m]\u001b[38;5;241m.\u001b[39mvalues\n\u001b[0;32m----> 2\u001b[0m date \u001b[38;5;241m=\u001b[39m \u001b[43mdataset_raw\u001b[49m\u001b[43m[\u001b[49m\u001b[38;5;124;43m'\u001b[39;49m\u001b[38;5;124;43mdate\u001b[39;49m\u001b[38;5;124;43m'\u001b[39;49m\u001b[43m]\u001b[49m\u001b[38;5;241m.\u001b[39mvalues\n\u001b[1;32m      3\u001b[0m fig \u001b[38;5;241m=\u001b[39m plt\u001b[38;5;241m.\u001b[39mfigure(figsize\u001b[38;5;241m=\u001b[39m(\u001b[38;5;241m25\u001b[39m, \u001b[38;5;241m2\u001b[39m))\n\u001b[1;32m      4\u001b[0m ax \u001b[38;5;241m=\u001b[39m fig\u001b[38;5;241m.\u001b[39madd_subplot(\u001b[38;5;241m111\u001b[39m)\n",
      "File \u001b[0;32m~/.local/lib/python3.8/site-packages/pandas/core/frame.py:2800\u001b[0m, in \u001b[0;36mDataFrame.__getitem__\u001b[0;34m(self, key)\u001b[0m\n\u001b[1;32m   2798\u001b[0m \u001b[38;5;28;01mif\u001b[39;00m \u001b[38;5;28mself\u001b[39m\u001b[38;5;241m.\u001b[39mcolumns\u001b[38;5;241m.\u001b[39mnlevels \u001b[38;5;241m>\u001b[39m \u001b[38;5;241m1\u001b[39m:\n\u001b[1;32m   2799\u001b[0m     \u001b[38;5;28;01mreturn\u001b[39;00m \u001b[38;5;28mself\u001b[39m\u001b[38;5;241m.\u001b[39m_getitem_multilevel(key)\n\u001b[0;32m-> 2800\u001b[0m indexer \u001b[38;5;241m=\u001b[39m \u001b[38;5;28;43mself\u001b[39;49m\u001b[38;5;241;43m.\u001b[39;49m\u001b[43mcolumns\u001b[49m\u001b[38;5;241;43m.\u001b[39;49m\u001b[43mget_loc\u001b[49m\u001b[43m(\u001b[49m\u001b[43mkey\u001b[49m\u001b[43m)\u001b[49m\n\u001b[1;32m   2801\u001b[0m \u001b[38;5;28;01mif\u001b[39;00m is_integer(indexer):\n\u001b[1;32m   2802\u001b[0m     indexer \u001b[38;5;241m=\u001b[39m [indexer]\n",
      "File \u001b[0;32m~/.local/lib/python3.8/site-packages/pandas/core/indexes/base.py:2648\u001b[0m, in \u001b[0;36mIndex.get_loc\u001b[0;34m(self, key, method, tolerance)\u001b[0m\n\u001b[1;32m   2646\u001b[0m         \u001b[38;5;28;01mreturn\u001b[39;00m \u001b[38;5;28mself\u001b[39m\u001b[38;5;241m.\u001b[39m_engine\u001b[38;5;241m.\u001b[39mget_loc(key)\n\u001b[1;32m   2647\u001b[0m     \u001b[38;5;28;01mexcept\u001b[39;00m \u001b[38;5;167;01mKeyError\u001b[39;00m:\n\u001b[0;32m-> 2648\u001b[0m         \u001b[38;5;28;01mreturn\u001b[39;00m \u001b[38;5;28;43mself\u001b[39;49m\u001b[38;5;241;43m.\u001b[39;49m\u001b[43m_engine\u001b[49m\u001b[38;5;241;43m.\u001b[39;49m\u001b[43mget_loc\u001b[49m\u001b[43m(\u001b[49m\u001b[38;5;28;43mself\u001b[39;49m\u001b[38;5;241;43m.\u001b[39;49m\u001b[43m_maybe_cast_indexer\u001b[49m\u001b[43m(\u001b[49m\u001b[43mkey\u001b[49m\u001b[43m)\u001b[49m\u001b[43m)\u001b[49m\n\u001b[1;32m   2649\u001b[0m indexer \u001b[38;5;241m=\u001b[39m \u001b[38;5;28mself\u001b[39m\u001b[38;5;241m.\u001b[39mget_indexer([key], method\u001b[38;5;241m=\u001b[39mmethod, tolerance\u001b[38;5;241m=\u001b[39mtolerance)\n\u001b[1;32m   2650\u001b[0m \u001b[38;5;28;01mif\u001b[39;00m indexer\u001b[38;5;241m.\u001b[39mndim \u001b[38;5;241m>\u001b[39m \u001b[38;5;241m1\u001b[39m \u001b[38;5;129;01mor\u001b[39;00m indexer\u001b[38;5;241m.\u001b[39msize \u001b[38;5;241m>\u001b[39m \u001b[38;5;241m1\u001b[39m:\n",
      "File \u001b[0;32mpandas/_libs/index.pyx:111\u001b[0m, in \u001b[0;36mpandas._libs.index.IndexEngine.get_loc\u001b[0;34m()\u001b[0m\n",
      "File \u001b[0;32mpandas/_libs/index.pyx:138\u001b[0m, in \u001b[0;36mpandas._libs.index.IndexEngine.get_loc\u001b[0;34m()\u001b[0m\n",
      "File \u001b[0;32mpandas/_libs/hashtable_class_helper.pxi:1619\u001b[0m, in \u001b[0;36mpandas._libs.hashtable.PyObjectHashTable.get_item\u001b[0;34m()\u001b[0m\n",
      "File \u001b[0;32mpandas/_libs/hashtable_class_helper.pxi:1627\u001b[0m, in \u001b[0;36mpandas._libs.hashtable.PyObjectHashTable.get_item\u001b[0;34m()\u001b[0m\n",
      "\u001b[0;31mKeyError\u001b[0m: 'date'"
     ]
    }
   ],
   "source": [
    "cal_date_day_of_month_sin = dataset_raw['cal_date_day_of_month_sin'].values\n",
    "date = dataset_raw['date'].values\n",
    "fig = plt.figure(figsize=(25, 2))\n",
    "ax = fig.add_subplot(111)\n",
    "plt.xticks(rotation=90)\n",
    "plt.xticks(np.arange(0, len(date)+1, 4))\n",
    "plt.plot(date, cal_date_day_of_month_sin)"
   ]
  },
  {
   "cell_type": "code",
   "execution_count": null,
   "id": "3c9c39a4",
   "metadata": {
    "pycharm": {
     "name": "#%%\n"
    }
   },
   "outputs": [],
   "source": [
    "cal_date_day_of_month_sin = dataset_raw['cal_date_day_of_month_cos'].values\n",
    "date = dataset_raw['date'].values\n",
    "fig = plt.figure(figsize=(25, 2))\n",
    "ax = fig.add_subplot(111)\n",
    "plt.xticks(rotation=90)\n",
    "plt.xticks(np.arange(0, len(date)+1, 4))\n",
    "plt.plot(date, cal_date_day_of_month_cos)"
   ]
  },
  {
   "cell_type": "code",
   "execution_count": null,
   "id": "4ed8a3e5",
   "metadata": {
    "pycharm": {
     "name": "#%%\n"
    }
   },
   "outputs": [],
   "source": []
  },
  {
   "cell_type": "code",
   "execution_count": null,
   "id": "75a21151",
   "metadata": {
    "pycharm": {
     "name": "#%%\n"
    }
   },
   "outputs": [],
   "source": []
  },
  {
   "cell_type": "code",
   "execution_count": null,
   "id": "d40d7495",
   "metadata": {
    "pycharm": {
     "name": "#%%\n"
    }
   },
   "outputs": [],
   "source": []
  }
 ],
 "metadata": {
  "kernelspec": {
   "display_name": "Python 3 (ipykernel)",
   "language": "python",
   "name": "python3"
  },
  "language_info": {
   "codemirror_mode": {
    "name": "ipython",
    "version": 3
   },
   "file_extension": ".py",
   "mimetype": "text/x-python",
   "name": "python",
   "nbconvert_exporter": "python",
   "pygments_lexer": "ipython3",
   "version": "3.8.10"
  }
 },
 "nbformat": 4,
 "nbformat_minor": 5
}
