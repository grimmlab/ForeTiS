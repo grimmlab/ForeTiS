{
 "cells": [
  {
   "cell_type": "markdown",
   "metadata": {},
   "source": [
    "# HowTo: Use ForeTiS as a pip package"
   ]
  },
  {
   "cell_type": "markdown",
   "metadata": {},
   "source": [
    "In this Jupyter notebook, we show how you can use ForeTiS as a pip package and also guide you through the steps that ForeTiS is doing when triggering an optimization run.\n",
    "\n",
    "Please clone the whole GitHub repository if you want to run this tutorial on your own, as we need the tutorial data from our GitHub repository and to make sure that all paths we define are correct: ``git clone https://github.com/grimmlab/ForeTiS.git``\n",
    "\n",
    "Then, start a Jupyter notebook server on your machine and open this Jupyter notebook, which is placed at ``docs/source/tutorials`` in the repository.\n",
    "\n",
    "However, you could also download the single files and define the paths yourself:\n",
    "\n",
    "- The Jupyter notebook can be downloaded here: [HowTo: Use ForeTiS as a pip package.ipynb](https://github.com/grimmlab/ForeTiS/tree/main/docs/source/tutorials/HowTo%20Use%20ForeTiS%20as%20a%20pip%20package.ipynb)\n",
    "\n",
    "- The data we use can be found here: [tutorial data](https://github.com/grimmlab/ForeTiS/tree/main/docs/source/tutorials/tutorial_data)\n"
   ]
  },
  {
   "cell_type": "markdown",
   "metadata": {},
   "source": [
    "## Installation, imports and paths\n",
    "First, we may need to install ForeTiS (uncomment if it is not already installed). Then, we import ForeTiS as well as further libraries that we need in this tutorial. In the end, we define some paths and filenames which we will use more often throughout this tutorial. We will save the results in the same directory where this repository is placed."
   ]
  },
  {
   "cell_type": "code",
   "execution_count": 73,
   "metadata": {},
   "outputs": [],
   "source": [
    "# !pip3 install --index-url https://test.pypi.org/simple/ --extra-index-url https://pypi.org/simple/ ForeTiS"
   ]
  },
  {
   "cell_type": "code",
   "execution_count": 74,
   "metadata": {},
   "outputs": [],
   "source": [
    "import ForeTiS\n",
    "import pathlib\n",
    "import pandas as pd\n",
    "import datetime\n",
    "import pprint"
   ]
  },
  {
   "cell_type": "code",
   "execution_count": 75,
   "metadata": {},
   "outputs": [],
   "source": [
    "# Definition of paths and filenames\n",
    "cwd = pathlib.Path.cwd()\n",
    "data_dir = cwd.joinpath('tutorial_data')\n",
    "save_dir = data_dir\n",
    "model = 'xgboost'"
   ]
  },
  {
   "cell_type": "markdown",
   "metadata": {},
   "source": [
    "## Run whole optimization pipeline at once\n",
    "As shown for the [Docker workflow](https://ForeTiS.readthedocs.io/en/latest/tutorials/tut_run_docker.html), ForeTiS offers a function [optim_pipeline.run()](https://github.com/grimmlab/ForeTiS/blob/master/ForeTiS/optim_pipeline.py) that triggers the whole optimization run. \n",
    "\n",
    "In the definition of ``optim_pipeline.run()``, we set several default values. In order to run it using our tutorial data, we just need to define the data and directories we want to use as well as the models we want to optimize. Furthermore, we set values for the ``datasplit`` and ``n_trials`` to limit the waiting time for getting the results.\n",
    "\n",
    "When calling the function, we first see some information regarding the data preprocessing and the configuration of our optimization run, e.g. the data that is used. Then, the current progress of the optuna optimization with results of the individual trials is shown. Afterwards, the optimized model with the best hyperparameters get retrained and tested on a unknown test set. This process of optimizing the hyperparameters and testing the model gets executed for every created feature set. In the end, we show a summary of the whole optimization run."
   ]
  },
  {
   "cell_type": "code",
   "execution_count": 76,
   "metadata": {},
   "outputs": [
    {
     "name": "stderr",
     "output_type": "stream",
     "text": [
      "/home/josef/.local/lib/python3.10/site-packages/ForeTiS/optimization/optuna_optim.py:120: ExperimentalWarning: RetryFailedTrialCallback is experimental (supported from v2.8.0). The interface can change in the future.\n",
      "  failed_trial_callback=optuna.storages.RetryFailedTrialCallback(max_retry=3))\n",
      "\u001B[32m[I 2023-03-03 21:50:28,146]\u001B[0m A new study created in RDB with name: 2023-03-03_21-50-28_-MODELxgboost-TRIALS10-FEATURESETdataset_full\u001B[0m\n"
     ]
    },
    {
     "name": "stdout",
     "output_type": "stream",
     "text": [
      "---Dataset is already preprocessed---\n",
      "### Dataset is loaded ###\n",
      "### Starting Optuna Optimization for model xgboost and featureset dataset_full ###\n",
      "## Starting Optimization\n",
      "Params for Trial 0\n",
      "{'n_estimators': 700, 'max_depth': 10, 'learning_rate': 0.225, 'gamma': 600, 'subsample': 0.2, 'colsample_bytree': 0.2, 'reg_lambda': 58.0, 'reg_alpha': 867.0}\n"
     ]
    },
    {
     "name": "stderr",
     "output_type": "stream",
     "text": [
      "\u001B[32m[I 2023-03-03 21:50:30,959]\u001B[0m Trial 0 finished with value: 12477267674.395584 and parameters: {'n_estimators': 700, 'max_depth': 10, 'learning_rate': 0.225, 'gamma': 600, 'subsample': 0.2, 'colsample_bytree': 0.2, 'reg_lambda': 58.0, 'reg_alpha': 867.0}. Best is trial 0 with value: 12477267674.395584.\u001B[0m\n"
     ]
    },
    {
     "name": "stdout",
     "output_type": "stream",
     "text": [
      "Params for Trial 1\n",
      "{'n_estimators': 800, 'max_depth': 8, 'learning_rate': 0.025, 'gamma': 970, 'subsample': 0.8500000000000001, 'colsample_bytree': 0.25, 'reg_lambda': 182.0, 'reg_alpha': 183.0}\n"
     ]
    },
    {
     "name": "stderr",
     "output_type": "stream",
     "text": [
      "\u001B[32m[I 2023-03-03 21:50:34,236]\u001B[0m Trial 1 finished with value: 23865390820.383522 and parameters: {'n_estimators': 800, 'max_depth': 8, 'learning_rate': 0.025, 'gamma': 970, 'subsample': 0.8500000000000001, 'colsample_bytree': 0.25, 'reg_lambda': 182.0, 'reg_alpha': 183.0}. Best is trial 0 with value: 12477267674.395584.\u001B[0m\n"
     ]
    },
    {
     "name": "stdout",
     "output_type": "stream",
     "text": [
      "Params for Trial 2\n",
      "{'n_estimators': 650, 'max_depth': 6, 'learning_rate': 0.15, 'gamma': 290, 'subsample': 0.6500000000000001, 'colsample_bytree': 0.15000000000000002, 'reg_lambda': 292.0, 'reg_alpha': 366.0}\n"
     ]
    },
    {
     "name": "stderr",
     "output_type": "stream",
     "text": [
      "\u001B[32m[I 2023-03-03 21:50:36,728]\u001B[0m Trial 2 finished with value: 16570702631.08224 and parameters: {'n_estimators': 650, 'max_depth': 6, 'learning_rate': 0.15, 'gamma': 290, 'subsample': 0.6500000000000001, 'colsample_bytree': 0.15000000000000002, 'reg_lambda': 292.0, 'reg_alpha': 366.0}. Best is trial 0 with value: 12477267674.395584.\u001B[0m\n"
     ]
    },
    {
     "name": "stdout",
     "output_type": "stream",
     "text": [
      "Params for Trial 3\n",
      "{'n_estimators': 750, 'max_depth': 9, 'learning_rate': 0.07500000000000001, 'gamma': 510, 'subsample': 0.6000000000000001, 'colsample_bytree': 0.05, 'reg_lambda': 608.0, 'reg_alpha': 170.0}\n"
     ]
    },
    {
     "name": "stderr",
     "output_type": "stream",
     "text": [
      "\u001B[32m[I 2023-03-03 21:50:39,557]\u001B[0m Trial 3 finished with value: 32826934290.40348 and parameters: {'n_estimators': 750, 'max_depth': 9, 'learning_rate': 0.07500000000000001, 'gamma': 510, 'subsample': 0.6000000000000001, 'colsample_bytree': 0.05, 'reg_lambda': 608.0, 'reg_alpha': 170.0}. Best is trial 0 with value: 12477267674.395584.\u001B[0m\n"
     ]
    },
    {
     "name": "stdout",
     "output_type": "stream",
     "text": [
      "Params for Trial 4\n",
      "{'n_estimators': 500, 'max_depth': 10, 'learning_rate': 0.3, 'gamma': 810, 'subsample': 0.35000000000000003, 'colsample_bytree': 0.1, 'reg_lambda': 684.0, 'reg_alpha': 440.0}\n"
     ]
    },
    {
     "name": "stderr",
     "output_type": "stream",
     "text": [
      "\u001B[32m[I 2023-03-03 21:50:41,567]\u001B[0m Trial 4 finished with value: 27304306183.488396 and parameters: {'n_estimators': 500, 'max_depth': 10, 'learning_rate': 0.3, 'gamma': 810, 'subsample': 0.35000000000000003, 'colsample_bytree': 0.1, 'reg_lambda': 684.0, 'reg_alpha': 440.0}. Best is trial 0 with value: 12477267674.395584.\u001B[0m\n"
     ]
    },
    {
     "name": "stdout",
     "output_type": "stream",
     "text": [
      "Params for Trial 5\n",
      "{'n_estimators': 550, 'max_depth': 6, 'learning_rate': 0.025, 'gamma': 910, 'subsample': 0.3, 'colsample_bytree': 0.7000000000000001, 'reg_lambda': 312.0, 'reg_alpha': 520.0}\n"
     ]
    },
    {
     "name": "stderr",
     "output_type": "stream",
     "text": [
      "\u001B[32m[I 2023-03-03 21:50:43,798]\u001B[0m Trial 5 finished with value: 41682236193.01747 and parameters: {'n_estimators': 550, 'max_depth': 6, 'learning_rate': 0.025, 'gamma': 910, 'subsample': 0.3, 'colsample_bytree': 0.7000000000000001, 'reg_lambda': 312.0, 'reg_alpha': 520.0}. Best is trial 0 with value: 12477267674.395584.\u001B[0m\n"
     ]
    },
    {
     "name": "stdout",
     "output_type": "stream",
     "text": [
      "Params for Trial 6\n",
      "{'n_estimators': 800, 'max_depth': 3, 'learning_rate': 0.3, 'gamma': 780, 'subsample': 0.9500000000000001, 'colsample_bytree': 0.9000000000000001, 'reg_lambda': 598.0, 'reg_alpha': 922.0}\n"
     ]
    },
    {
     "name": "stderr",
     "output_type": "stream",
     "text": [
      "\u001B[32m[I 2023-03-03 21:50:46,862]\u001B[0m Trial 6 finished with value: 10334330757.877611 and parameters: {'n_estimators': 800, 'max_depth': 3, 'learning_rate': 0.3, 'gamma': 780, 'subsample': 0.9500000000000001, 'colsample_bytree': 0.9000000000000001, 'reg_lambda': 598.0, 'reg_alpha': 922.0}. Best is trial 6 with value: 10334330757.877611.\u001B[0m\n"
     ]
    },
    {
     "name": "stdout",
     "output_type": "stream",
     "text": [
      "Params for Trial 7\n",
      "{'n_estimators': 500, 'max_depth': 3, 'learning_rate': 0.025, 'gamma': 320, 'subsample': 0.4, 'colsample_bytree': 0.3, 'reg_lambda': 829.0, 'reg_alpha': 357.0}\n"
     ]
    },
    {
     "name": "stderr",
     "output_type": "stream",
     "text": [
      "\u001B[32m[I 2023-03-03 21:50:48,724]\u001B[0m Trial 7 finished with value: 57564233462.41369 and parameters: {'n_estimators': 500, 'max_depth': 3, 'learning_rate': 0.025, 'gamma': 320, 'subsample': 0.4, 'colsample_bytree': 0.3, 'reg_lambda': 829.0, 'reg_alpha': 357.0}. Best is trial 6 with value: 10334330757.877611.\u001B[0m\n"
     ]
    },
    {
     "name": "stdout",
     "output_type": "stream",
     "text": [
      "Params for Trial 8\n",
      "{'n_estimators': 650, 'max_depth': 6, 'learning_rate': 0.05, 'gamma': 810, 'subsample': 0.1, 'colsample_bytree': 1.0, 'reg_lambda': 773.0, 'reg_alpha': 198.0}\n"
     ]
    },
    {
     "name": "stderr",
     "output_type": "stream",
     "text": [
      "\u001B[32m[I 2023-03-03 21:50:51,289]\u001B[0m Trial 8 finished with value: 59564589526.27223 and parameters: {'n_estimators': 650, 'max_depth': 6, 'learning_rate': 0.05, 'gamma': 810, 'subsample': 0.1, 'colsample_bytree': 1.0, 'reg_lambda': 773.0, 'reg_alpha': 198.0}. Best is trial 6 with value: 10334330757.877611.\u001B[0m\n"
     ]
    },
    {
     "name": "stdout",
     "output_type": "stream",
     "text": [
      "Params for Trial 9\n",
      "{'n_estimators': 500, 'max_depth': 9, 'learning_rate': 0.225, 'gamma': 730, 'subsample': 0.8, 'colsample_bytree': 0.1, 'reg_lambda': 358.0, 'reg_alpha': 115.0}\n"
     ]
    },
    {
     "name": "stderr",
     "output_type": "stream",
     "text": [
      "\u001B[32m[I 2023-03-03 21:50:53,199]\u001B[0m Trial 9 finished with value: 21784303396.630066 and parameters: {'n_estimators': 500, 'max_depth': 9, 'learning_rate': 0.225, 'gamma': 730, 'subsample': 0.8, 'colsample_bytree': 0.1, 'reg_lambda': 358.0, 'reg_alpha': 115.0}. Best is trial 6 with value: 10334330757.877611.\u001B[0m\n"
     ]
    },
    {
     "name": "stdout",
     "output_type": "stream",
     "text": [
      "## Optuna Study finished ##\n",
      "Study statistics: \n",
      "  Finished trials:  10\n",
      "  Pruned trials:  0\n",
      "  Completed trials:  10\n",
      "  Best Trial:  6\n",
      "  Value:  10334330757.877611\n",
      "  Params: \n",
      "    colsample_bytree: 0.9000000000000001\n",
      "    gamma: 780\n",
      "    learning_rate: 0.3\n",
      "    max_depth: 3\n",
      "    n_estimators: 800\n",
      "    reg_alpha: 922.0\n",
      "    reg_lambda: 598.0\n",
      "    subsample: 0.9500000000000001\n",
      "## Retrain best model and test ##\n",
      "## Results on test set with refitting period: complete ##\n",
      "{'test_refitting_period_complete_mse': 7746675083.946438, 'test_refitting_period_complete_rmse': 88015.19802821804, 'test_refitting_period_complete_r2_score': 0.849709510924217, 'test_refitting_period_complete_explained_variance': 0.8500353551866467, 'test_refitting_period_complete_MAPE': 4.376419954227729, 'test_refitting_period_complete_sMAPE': 4.09452881498149}\n"
     ]
    },
    {
     "data": {
      "image/png": "[encoded data removed]",
      "text/plain": [
       "<Figure size 432x288 with 1 Axes>"
      ]
     },
     "metadata": {},
     "output_type": "display_data"
    },
    {
     "name": "stdout",
     "output_type": "stream",
     "text": [
      "### Finished Optuna Optimization for xgboost and featureset dataset_full ###\n",
      "# Optimization runs done for models ['xgboost'] and ['dataset_full']\n",
      "Results overview on the test set(s)\n",
      "{'xgboost': {'dataset_full': {'Test': {'best_params': {'colsample_bytree': 0.9000000000000001,\n",
      "                                                       'gamma': 780,\n",
      "                                                       'learning_rate': 0.3,\n",
      "                                                       'max_depth': 3,\n",
      "                                                       'n_estimators': 800,\n",
      "                                                       'reg_alpha': 922.0,\n",
      "                                                       'reg_lambda': 598.0,\n",
      "                                                       'subsample': 0.9500000000000001},\n",
      "                                       'eval_metrics': {'test_refitting_period_complete_MAPE': 4.376419954227729,\n",
      "                                                        'test_refitting_period_complete_explained_variance': 0.8500353551866467,\n",
      "                                                        'test_refitting_period_complete_mse': 7746675083.946438,\n",
      "                                                        'test_refitting_period_complete_r2_score': 0.849709510924217,\n",
      "                                                        'test_refitting_period_complete_rmse': 88015.19802821804,\n",
      "                                                        'test_refitting_period_complete_sMAPE': 4.09452881498149},\n",
      "                                       'retries': 0,\n",
      "                                       'runtime_metrics': {'process_time_max': 18.45159076599998,\n",
      "                                                           'process_time_mean': 13.805673200400008,\n",
      "                                                           'process_time_min': 10.010519391999992,\n",
      "                                                           'process_time_std': 2.932392361664868,\n",
      "                                                           'real_time_max': 3.247318983078003,\n",
      "                                                           'real_time_mean': 2.4725477933883666,\n",
      "                                                           'real_time_min': 1.8300788402557373,\n",
      "                                                           'real_time_std': 0.4933237490143201}}}}}\n"
     ]
    },
    {
     "data": {
      "text/plain": [
       "<Figure size 432x288 with 0 Axes>"
      ]
     },
     "metadata": {},
     "output_type": "display_data"
    }
   ],
   "source": [
    "ForeTiS.optim_pipeline.run(data_dir=data_dir, data='nike_sales', config_file_section='nike_sales', save_dir=data_dir, models=[model], n_trials=10, periodical_refit_frequency=['complete'])"
   ]
  },
  {
   "cell_type": "markdown",
   "metadata": {},
   "source": [
    "Within the defined ``save_dir``, a ``results`` folder will be created. \n",
    "   \n",
    "Then, ForeTiS' default folder structure follows: ``model/featureset/``.\n",
    "\n",
    "We can see this structure below with all optimization results for the defined ``model``."
   ]
  },
  {
   "cell_type": "code",
   "execution_count": 77,
   "metadata": {},
   "outputs": [
    {
     "name": "stdout",
     "output_type": "stream",
     "text": [
      "/home/josef/Schreibtisch/01_HorticulturalSalesPrediction/ForeTiS/docs/source/tutorials/tutorial_data/results/xgboost/2023-03-03_21-50-28_dataset_full\n"
     ]
    }
   ],
   "source": [
    "result_folders = list(save_dir.joinpath('results', model).glob('*'))\n",
    "for results_dir in result_folders:\n",
    "    print(results_dir)"
   ]
  },
  {
   "cell_type": "markdown",
   "metadata": {},
   "source": [
    "In the example below, we can see that each result folder contains different files with detailed results for each of the optimized models."
   ]
  },
  {
   "cell_type": "code",
   "execution_count": 78,
   "metadata": {},
   "outputs": [
    {
     "name": "stdout",
     "output_type": "stream",
     "text": [
      "/home/josef/Schreibtisch/01_HorticulturalSalesPrediction/ForeTiS/docs/source/tutorials/tutorial_data/results/xgboost/2023-03-03_21-50-28_dataset_full/xgboost_dataset_full_best_refitting_cycle_complete.png\n",
      "/home/josef/Schreibtisch/01_HorticulturalSalesPrediction/ForeTiS/docs/source/tutorials/tutorial_data/results/xgboost/2023-03-03_21-50-28_dataset_full/xgboost_runtime_overview.csv\n",
      "/home/josef/Schreibtisch/01_HorticulturalSalesPrediction/ForeTiS/docs/source/tutorials/tutorial_data/results/xgboost/2023-03-03_21-50-28_dataset_full/final_model_test_results.csv\n",
      "/home/josef/Schreibtisch/01_HorticulturalSalesPrediction/ForeTiS/docs/source/tutorials/tutorial_data/results/xgboost/2023-03-03_21-50-28_dataset_full/final_model_feature_importances.csv\n",
      "/home/josef/Schreibtisch/01_HorticulturalSalesPrediction/ForeTiS/docs/source/tutorials/tutorial_data/results/xgboost/2023-03-03_21-50-28_dataset_full/unfitted_model_trial6\n",
      "/home/josef/Schreibtisch/01_HorticulturalSalesPrediction/ForeTiS/docs/source/tutorials/tutorial_data/results/xgboost/2023-03-03_21-50-28_dataset_full/Optuna_DB.db\n",
      "/home/josef/Schreibtisch/01_HorticulturalSalesPrediction/ForeTiS/docs/source/tutorials/tutorial_data/results/xgboost/2023-03-03_21-50-28_dataset_full/validation_results_trial6.csv\n"
     ]
    }
   ],
   "source": [
    "result_elements = list(result_folders[0].glob('*'))\n",
    "for result_element in result_elements:\n",
    "    print(result_element)"
   ]
  },
  {
   "cell_type": "markdown",
   "metadata": {},
   "source": [
    "The ``*_runtime_overview.csv`` file contains the best parameters, evaluation as well as runtime metrics for each of the optimized models as we can see in the example below."
   ]
  },
  {
   "cell_type": "code",
   "execution_count": 79,
   "metadata": {},
   "outputs": [
    {
     "data": {
      "text/html": [
       "<div>\n",
       "<style scoped>\n",
       "    .dataframe tbody tr th:only-of-type {\n",
       "        vertical-align: middle;\n",
       "    }\n",
       "\n",
       "    .dataframe tbody tr th {\n",
       "        vertical-align: top;\n",
       "    }\n",
       "\n",
       "    .dataframe thead th {\n",
       "        text-align: right;\n",
       "    }\n",
       "</style>\n",
       "<table border=\"1\" class=\"dataframe\">\n",
       "  <thead>\n",
       "    <tr style=\"text-align: right;\">\n",
       "      <th></th>\n",
       "      <th>Trial</th>\n",
       "      <th>refitting_cycle</th>\n",
       "      <th>process_time_s</th>\n",
       "      <th>real_time_s</th>\n",
       "      <th>params</th>\n",
       "      <th>note</th>\n",
       "    </tr>\n",
       "  </thead>\n",
       "  <tbody>\n",
       "    <tr>\n",
       "      <th>0</th>\n",
       "      <td>0</td>\n",
       "      <td>NaN</td>\n",
       "      <td>15.554622</td>\n",
       "      <td>2.766639</td>\n",
       "      <td>{'n_estimators': 700, 'max_depth': 10, 'learni...</td>\n",
       "      <td>successful</td>\n",
       "    </tr>\n",
       "    <tr>\n",
       "      <th>1</th>\n",
       "      <td>1</td>\n",
       "      <td>NaN</td>\n",
       "      <td>18.451591</td>\n",
       "      <td>3.247319</td>\n",
       "      <td>{'n_estimators': 800, 'max_depth': 8, 'learnin...</td>\n",
       "      <td>successful</td>\n",
       "    </tr>\n",
       "    <tr>\n",
       "      <th>2</th>\n",
       "      <td>2</td>\n",
       "      <td>NaN</td>\n",
       "      <td>13.801943</td>\n",
       "      <td>2.463260</td>\n",
       "      <td>{'n_estimators': 650, 'max_depth': 6, 'learnin...</td>\n",
       "      <td>successful</td>\n",
       "    </tr>\n",
       "    <tr>\n",
       "      <th>3</th>\n",
       "      <td>3</td>\n",
       "      <td>NaN</td>\n",
       "      <td>15.702649</td>\n",
       "      <td>2.794137</td>\n",
       "      <td>{'n_estimators': 750, 'max_depth': 9, 'learnin...</td>\n",
       "      <td>successful</td>\n",
       "    </tr>\n",
       "    <tr>\n",
       "      <th>4</th>\n",
       "      <td>4</td>\n",
       "      <td>NaN</td>\n",
       "      <td>10.769471</td>\n",
       "      <td>1.975961</td>\n",
       "      <td>{'n_estimators': 500, 'max_depth': 10, 'learni...</td>\n",
       "      <td>successful</td>\n",
       "    </tr>\n",
       "    <tr>\n",
       "      <th>5</th>\n",
       "      <td>5</td>\n",
       "      <td>NaN</td>\n",
       "      <td>12.254852</td>\n",
       "      <td>2.201480</td>\n",
       "      <td>{'n_estimators': 550, 'max_depth': 6, 'learnin...</td>\n",
       "      <td>successful</td>\n",
       "    </tr>\n",
       "    <tr>\n",
       "      <th>6</th>\n",
       "      <td>6</td>\n",
       "      <td>NaN</td>\n",
       "      <td>17.035096</td>\n",
       "      <td>3.030404</td>\n",
       "      <td>{'n_estimators': 800, 'max_depth': 3, 'learnin...</td>\n",
       "      <td>successful</td>\n",
       "    </tr>\n",
       "    <tr>\n",
       "      <th>7</th>\n",
       "      <td>7</td>\n",
       "      <td>NaN</td>\n",
       "      <td>10.010519</td>\n",
       "      <td>1.830079</td>\n",
       "      <td>{'n_estimators': 500, 'max_depth': 3, 'learnin...</td>\n",
       "      <td>successful</td>\n",
       "    </tr>\n",
       "    <tr>\n",
       "      <th>8</th>\n",
       "      <td>8</td>\n",
       "      <td>NaN</td>\n",
       "      <td>14.209953</td>\n",
       "      <td>2.536838</td>\n",
       "      <td>{'n_estimators': 650, 'max_depth': 6, 'learnin...</td>\n",
       "      <td>successful</td>\n",
       "    </tr>\n",
       "    <tr>\n",
       "      <th>9</th>\n",
       "      <td>9</td>\n",
       "      <td>NaN</td>\n",
       "      <td>10.266035</td>\n",
       "      <td>1.879361</td>\n",
       "      <td>{'n_estimators': 500, 'max_depth': 9, 'learnin...</td>\n",
       "      <td>successful</td>\n",
       "    </tr>\n",
       "    <tr>\n",
       "      <th>10</th>\n",
       "      <td>mean</td>\n",
       "      <td>NaN</td>\n",
       "      <td>13.805673</td>\n",
       "      <td>2.472548</td>\n",
       "      <td>NaN</td>\n",
       "      <td>NaN</td>\n",
       "    </tr>\n",
       "    <tr>\n",
       "      <th>11</th>\n",
       "      <td>std</td>\n",
       "      <td>NaN</td>\n",
       "      <td>2.932392</td>\n",
       "      <td>0.493324</td>\n",
       "      <td>NaN</td>\n",
       "      <td>NaN</td>\n",
       "    </tr>\n",
       "    <tr>\n",
       "      <th>12</th>\n",
       "      <td>max</td>\n",
       "      <td>NaN</td>\n",
       "      <td>18.451591</td>\n",
       "      <td>3.247319</td>\n",
       "      <td>NaN</td>\n",
       "      <td>NaN</td>\n",
       "    </tr>\n",
       "    <tr>\n",
       "      <th>13</th>\n",
       "      <td>min</td>\n",
       "      <td>NaN</td>\n",
       "      <td>10.010519</td>\n",
       "      <td>1.830079</td>\n",
       "      <td>NaN</td>\n",
       "      <td>NaN</td>\n",
       "    </tr>\n",
       "    <tr>\n",
       "      <th>14</th>\n",
       "      <td>retraining_after_10_trials</td>\n",
       "      <td>complete</td>\n",
       "      <td>8.822604</td>\n",
       "      <td>1.510213</td>\n",
       "      <td>{'colsample_bytree': 0.9000000000000001, 'gamm...</td>\n",
       "      <td>successful</td>\n",
       "    </tr>\n",
       "  </tbody>\n",
       "</table>\n",
       "</div>"
      ],
      "text/plain": [
       "                         Trial refitting_cycle  process_time_s  real_time_s  \\\n",
       "0                            0             NaN       15.554622     2.766639   \n",
       "1                            1             NaN       18.451591     3.247319   \n",
       "2                            2             NaN       13.801943     2.463260   \n",
       "3                            3             NaN       15.702649     2.794137   \n",
       "4                            4             NaN       10.769471     1.975961   \n",
       "5                            5             NaN       12.254852     2.201480   \n",
       "6                            6             NaN       17.035096     3.030404   \n",
       "7                            7             NaN       10.010519     1.830079   \n",
       "8                            8             NaN       14.209953     2.536838   \n",
       "9                            9             NaN       10.266035     1.879361   \n",
       "10                        mean             NaN       13.805673     2.472548   \n",
       "11                         std             NaN        2.932392     0.493324   \n",
       "12                         max             NaN       18.451591     3.247319   \n",
       "13                         min             NaN       10.010519     1.830079   \n",
       "14  retraining_after_10_trials        complete        8.822604     1.510213   \n",
       "\n",
       "                                               params        note  \n",
       "0   {'n_estimators': 700, 'max_depth': 10, 'learni...  successful  \n",
       "1   {'n_estimators': 800, 'max_depth': 8, 'learnin...  successful  \n",
       "2   {'n_estimators': 650, 'max_depth': 6, 'learnin...  successful  \n",
       "3   {'n_estimators': 750, 'max_depth': 9, 'learnin...  successful  \n",
       "4   {'n_estimators': 500, 'max_depth': 10, 'learni...  successful  \n",
       "5   {'n_estimators': 550, 'max_depth': 6, 'learnin...  successful  \n",
       "6   {'n_estimators': 800, 'max_depth': 3, 'learnin...  successful  \n",
       "7   {'n_estimators': 500, 'max_depth': 3, 'learnin...  successful  \n",
       "8   {'n_estimators': 650, 'max_depth': 6, 'learnin...  successful  \n",
       "9   {'n_estimators': 500, 'max_depth': 9, 'learnin...  successful  \n",
       "10                                                NaN         NaN  \n",
       "11                                                NaN         NaN  \n",
       "12                                                NaN         NaN  \n",
       "13                                                NaN         NaN  \n",
       "14  {'colsample_bytree': 0.9000000000000001, 'gamm...  successful  "
      ]
     },
     "execution_count": 79,
     "metadata": {},
     "output_type": "execute_result"
    }
   ],
   "source": [
    "runtime_overview_file = [overview_file for overview_file in result_elements if '_runtime_overview' in str(overview_file)][0]\n",
    "pd.read_csv(runtime_overview_file)"
   ]
  },
  {
   "cell_type": "markdown",
   "metadata": {},
   "source": [
    "Beyond that, we see below that the detailed results for each optimized model contain validation and test results, saved prediction models, an optuna database, a runtime overview with information for each trial (good for debugging, as pruning reasons are also documented) and for some prediction models also feature importances."
   ]
  },
  {
   "cell_type": "code",
   "execution_count": 80,
   "metadata": {},
   "outputs": [
    {
     "data": {
      "text/html": [
       "<div>\n",
       "<style scoped>\n",
       "    .dataframe tbody tr th:only-of-type {\n",
       "        vertical-align: middle;\n",
       "    }\n",
       "\n",
       "    .dataframe tbody tr th {\n",
       "        vertical-align: top;\n",
       "    }\n",
       "\n",
       "    .dataframe thead th {\n",
       "        text-align: right;\n",
       "    }\n",
       "</style>\n",
       "<table border=\"1\" class=\"dataframe\">\n",
       "  <thead>\n",
       "    <tr style=\"text-align: right;\">\n",
       "      <th></th>\n",
       "      <th>y_pred_retrain</th>\n",
       "      <th>y_true_retrain</th>\n",
       "      <th>y_true_test</th>\n",
       "      <th>y_pred_test_refitting_period_complete</th>\n",
       "      <th>y_pred_test_var_refitting_period_complete</th>\n",
       "      <th>test_refitting_period_complete_mse</th>\n",
       "      <th>test_refitting_period_complete_rmse</th>\n",
       "      <th>test_refitting_period_complete_r2_score</th>\n",
       "      <th>test_refitting_period_complete_explained_variance</th>\n",
       "      <th>test_refitting_period_complete_MAPE</th>\n",
       "      <th>test_refitting_period_complete_sMAPE</th>\n",
       "    </tr>\n",
       "  </thead>\n",
       "  <tbody>\n",
       "    <tr>\n",
       "      <th>0</th>\n",
       "      <td>1.172851e+06</td>\n",
       "      <td>1.189235e+06</td>\n",
       "      <td>1.632762e+06</td>\n",
       "      <td>1572810.375</td>\n",
       "      <td>0.0</td>\n",
       "      <td>7.746675e+09</td>\n",
       "      <td>88015.198028</td>\n",
       "      <td>0.84971</td>\n",
       "      <td>0.850035</td>\n",
       "      <td>4.37642</td>\n",
       "      <td>4.094529</td>\n",
       "    </tr>\n",
       "    <tr>\n",
       "      <th>1</th>\n",
       "      <td>1.138915e+06</td>\n",
       "      <td>1.185445e+06</td>\n",
       "      <td>1.255720e+06</td>\n",
       "      <td>1246359.750</td>\n",
       "      <td>0.0</td>\n",
       "      <td>NaN</td>\n",
       "      <td>NaN</td>\n",
       "      <td>NaN</td>\n",
       "      <td>NaN</td>\n",
       "      <td>NaN</td>\n",
       "      <td>NaN</td>\n",
       "    </tr>\n",
       "    <tr>\n",
       "      <th>2</th>\n",
       "      <td>8.919995e+05</td>\n",
       "      <td>9.519060e+05</td>\n",
       "      <td>1.046709e+06</td>\n",
       "      <td>1061496.375</td>\n",
       "      <td>0.0</td>\n",
       "      <td>NaN</td>\n",
       "      <td>NaN</td>\n",
       "      <td>NaN</td>\n",
       "      <td>NaN</td>\n",
       "      <td>NaN</td>\n",
       "      <td>NaN</td>\n",
       "    </tr>\n",
       "    <tr>\n",
       "      <th>3</th>\n",
       "      <td>9.541891e+05</td>\n",
       "      <td>9.149935e+05</td>\n",
       "      <td>1.080526e+06</td>\n",
       "      <td>1157195.750</td>\n",
       "      <td>0.0</td>\n",
       "      <td>NaN</td>\n",
       "      <td>NaN</td>\n",
       "      <td>NaN</td>\n",
       "      <td>NaN</td>\n",
       "      <td>NaN</td>\n",
       "      <td>NaN</td>\n",
       "    </tr>\n",
       "    <tr>\n",
       "      <th>4</th>\n",
       "      <td>8.826827e+05</td>\n",
       "      <td>8.574261e+05</td>\n",
       "      <td>1.281535e+06</td>\n",
       "      <td>1304759.625</td>\n",
       "      <td>0.0</td>\n",
       "      <td>NaN</td>\n",
       "      <td>NaN</td>\n",
       "      <td>NaN</td>\n",
       "      <td>NaN</td>\n",
       "      <td>NaN</td>\n",
       "      <td>NaN</td>\n",
       "    </tr>\n",
       "    <tr>\n",
       "      <th>...</th>\n",
       "      <td>...</td>\n",
       "      <td>...</td>\n",
       "      <td>...</td>\n",
       "      <td>...</td>\n",
       "      <td>...</td>\n",
       "      <td>...</td>\n",
       "      <td>...</td>\n",
       "      <td>...</td>\n",
       "      <td>...</td>\n",
       "      <td>...</td>\n",
       "      <td>...</td>\n",
       "    </tr>\n",
       "    <tr>\n",
       "      <th>2183</th>\n",
       "      <td>NaN</td>\n",
       "      <td>NaN</td>\n",
       "      <td>NaN</td>\n",
       "      <td>NaN</td>\n",
       "      <td>NaN</td>\n",
       "      <td>NaN</td>\n",
       "      <td>NaN</td>\n",
       "      <td>NaN</td>\n",
       "      <td>NaN</td>\n",
       "      <td>NaN</td>\n",
       "      <td>NaN</td>\n",
       "    </tr>\n",
       "    <tr>\n",
       "      <th>2184</th>\n",
       "      <td>NaN</td>\n",
       "      <td>NaN</td>\n",
       "      <td>NaN</td>\n",
       "      <td>NaN</td>\n",
       "      <td>NaN</td>\n",
       "      <td>NaN</td>\n",
       "      <td>NaN</td>\n",
       "      <td>NaN</td>\n",
       "      <td>NaN</td>\n",
       "      <td>NaN</td>\n",
       "      <td>NaN</td>\n",
       "    </tr>\n",
       "    <tr>\n",
       "      <th>2185</th>\n",
       "      <td>NaN</td>\n",
       "      <td>NaN</td>\n",
       "      <td>NaN</td>\n",
       "      <td>NaN</td>\n",
       "      <td>NaN</td>\n",
       "      <td>NaN</td>\n",
       "      <td>NaN</td>\n",
       "      <td>NaN</td>\n",
       "      <td>NaN</td>\n",
       "      <td>NaN</td>\n",
       "      <td>NaN</td>\n",
       "    </tr>\n",
       "    <tr>\n",
       "      <th>2186</th>\n",
       "      <td>NaN</td>\n",
       "      <td>NaN</td>\n",
       "      <td>NaN</td>\n",
       "      <td>NaN</td>\n",
       "      <td>NaN</td>\n",
       "      <td>NaN</td>\n",
       "      <td>NaN</td>\n",
       "      <td>NaN</td>\n",
       "      <td>NaN</td>\n",
       "      <td>NaN</td>\n",
       "      <td>NaN</td>\n",
       "    </tr>\n",
       "    <tr>\n",
       "      <th>2187</th>\n",
       "      <td>NaN</td>\n",
       "      <td>NaN</td>\n",
       "      <td>NaN</td>\n",
       "      <td>NaN</td>\n",
       "      <td>NaN</td>\n",
       "      <td>NaN</td>\n",
       "      <td>NaN</td>\n",
       "      <td>NaN</td>\n",
       "      <td>NaN</td>\n",
       "      <td>NaN</td>\n",
       "      <td>NaN</td>\n",
       "    </tr>\n",
       "  </tbody>\n",
       "</table>\n",
       "<p>2188 rows × 11 columns</p>\n",
       "</div>"
      ],
      "text/plain": [
       "      y_pred_retrain  y_true_retrain   y_true_test  \\\n",
       "0       1.172851e+06    1.189235e+06  1.632762e+06   \n",
       "1       1.138915e+06    1.185445e+06  1.255720e+06   \n",
       "2       8.919995e+05    9.519060e+05  1.046709e+06   \n",
       "3       9.541891e+05    9.149935e+05  1.080526e+06   \n",
       "4       8.826827e+05    8.574261e+05  1.281535e+06   \n",
       "...              ...             ...           ...   \n",
       "2183             NaN             NaN           NaN   \n",
       "2184             NaN             NaN           NaN   \n",
       "2185             NaN             NaN           NaN   \n",
       "2186             NaN             NaN           NaN   \n",
       "2187             NaN             NaN           NaN   \n",
       "\n",
       "      y_pred_test_refitting_period_complete  \\\n",
       "0                               1572810.375   \n",
       "1                               1246359.750   \n",
       "2                               1061496.375   \n",
       "3                               1157195.750   \n",
       "4                               1304759.625   \n",
       "...                                     ...   \n",
       "2183                                    NaN   \n",
       "2184                                    NaN   \n",
       "2185                                    NaN   \n",
       "2186                                    NaN   \n",
       "2187                                    NaN   \n",
       "\n",
       "      y_pred_test_var_refitting_period_complete  \\\n",
       "0                                           0.0   \n",
       "1                                           0.0   \n",
       "2                                           0.0   \n",
       "3                                           0.0   \n",
       "4                                           0.0   \n",
       "...                                         ...   \n",
       "2183                                        NaN   \n",
       "2184                                        NaN   \n",
       "2185                                        NaN   \n",
       "2186                                        NaN   \n",
       "2187                                        NaN   \n",
       "\n",
       "      test_refitting_period_complete_mse  test_refitting_period_complete_rmse  \\\n",
       "0                           7.746675e+09                         88015.198028   \n",
       "1                                    NaN                                  NaN   \n",
       "2                                    NaN                                  NaN   \n",
       "3                                    NaN                                  NaN   \n",
       "4                                    NaN                                  NaN   \n",
       "...                                  ...                                  ...   \n",
       "2183                                 NaN                                  NaN   \n",
       "2184                                 NaN                                  NaN   \n",
       "2185                                 NaN                                  NaN   \n",
       "2186                                 NaN                                  NaN   \n",
       "2187                                 NaN                                  NaN   \n",
       "\n",
       "      test_refitting_period_complete_r2_score  \\\n",
       "0                                     0.84971   \n",
       "1                                         NaN   \n",
       "2                                         NaN   \n",
       "3                                         NaN   \n",
       "4                                         NaN   \n",
       "...                                       ...   \n",
       "2183                                      NaN   \n",
       "2184                                      NaN   \n",
       "2185                                      NaN   \n",
       "2186                                      NaN   \n",
       "2187                                      NaN   \n",
       "\n",
       "      test_refitting_period_complete_explained_variance  \\\n",
       "0                                              0.850035   \n",
       "1                                                   NaN   \n",
       "2                                                   NaN   \n",
       "3                                                   NaN   \n",
       "4                                                   NaN   \n",
       "...                                                 ...   \n",
       "2183                                                NaN   \n",
       "2184                                                NaN   \n",
       "2185                                                NaN   \n",
       "2186                                                NaN   \n",
       "2187                                                NaN   \n",
       "\n",
       "      test_refitting_period_complete_MAPE  \\\n",
       "0                                 4.37642   \n",
       "1                                     NaN   \n",
       "2                                     NaN   \n",
       "3                                     NaN   \n",
       "4                                     NaN   \n",
       "...                                   ...   \n",
       "2183                                  NaN   \n",
       "2184                                  NaN   \n",
       "2185                                  NaN   \n",
       "2186                                  NaN   \n",
       "2187                                  NaN   \n",
       "\n",
       "      test_refitting_period_complete_sMAPE  \n",
       "0                                 4.094529  \n",
       "1                                      NaN  \n",
       "2                                      NaN  \n",
       "3                                      NaN  \n",
       "4                                      NaN  \n",
       "...                                    ...  \n",
       "2183                                   NaN  \n",
       "2184                                   NaN  \n",
       "2185                                   NaN  \n",
       "2186                                   NaN  \n",
       "2187                                   NaN  \n",
       "\n",
       "[2188 rows x 11 columns]"
      ]
     },
     "execution_count": 80,
     "metadata": {},
     "output_type": "execute_result"
    }
   ],
   "source": [
    "final_model_test_results_file = [overview_file for overview_file in result_elements if 'final_model_test_results' in str(overview_file)][0]\n",
    "pd.read_csv(final_model_test_results_file)"
   ]
  },
  {
   "cell_type": "markdown",
   "metadata": {},
   "source": [
    "## Further information\n",
    "This notebooks shows how the use the ForeTiS pip package to run an optimization. Furthermore, we give an overview of the individual steps within ``optim_pipeline.run()``.\n",
    "\n",
    "For more information on specific topcis, see the following links:\n",
    "\n",
    "- [Documentation of the whole package](https://ForeTiS.readthedocs.io/en/latest/index.html)\n",
    "\n",
    "- [easyPheno's GitHub repository](https://github.com/grimmlab/ForeTiS)\n",
    "\n",
    "- Prepare your data according to our format: [Data Guide](https://ForeTiS.readthedocs.io/en/latest/data.html)\n",
    "\n",
    "- The [Installation Guide](https://ForeTiS.readthedocs.io/en/latest/install_docker.html) as well as [basic tutorial](https://ForeTiS.readthedocs.io/en/latest/tutorials/tut_run_docker.html) for the Docker workflow as an alternative\n",
    "\n",
    "- Several [advanced topics](https://ForeTiS.readthedocs.io/en/latest/tutorials/tut_adv.html) such as adjusting existing prediction models or creation of new ones"
   ]
  },
  {
   "cell_type": "code",
   "execution_count": null,
   "metadata": {},
   "outputs": [],
   "source": []
  }
 ],
 "metadata": {
  "kernelspec": {
   "display_name": "Python 3 (ipykernel)",
   "language": "python",
   "name": "python3"
  },
  "language_info": {
   "codemirror_mode": {
    "name": "ipython",
    "version": 3
   },
   "file_extension": ".py",
   "mimetype": "text/x-python",
   "name": "python",
   "nbconvert_exporter": "python",
   "pygments_lexer": "ipython3",
   "version": "3.10.6"
  }
 },
 "nbformat": 4,
 "nbformat_minor": 1
}
